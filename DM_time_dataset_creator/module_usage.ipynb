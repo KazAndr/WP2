{
 "cells": [
  {
   "cell_type": "code",
   "execution_count": 1,
   "id": "c49ecb5e-7415-4590-8827-dca299109728",
   "metadata": {},
   "outputs": [],
   "source": [
    "from processor import DMTimeDataSetCreator"
   ]
  },
  {
   "cell_type": "code",
   "execution_count": 2,
   "id": "ed87bff9-6fb0-40f6-82cf-f0ed51d73ebf",
   "metadata": {},
   "outputs": [
    {
     "name": "stderr",
     "output_type": "stream",
     "text": [
      "Processing files: 100%|███████████████████████████████████████████████████████████████████████████████████| 256/256 [00:25<00:00,  9.93it/s]\n"
     ]
    }
   ],
   "source": [
    "# Example of using the processor\n",
    "config_path = \"config.json\"\n",
    "processor = DMTimeDataSetCreator(config_path)"
   ]
  },
  {
   "cell_type": "code",
   "execution_count": 3,
   "id": "c43dcd2a-b7ba-43d6-acc0-c65679524e04",
   "metadata": {},
   "outputs": [
    {
     "name": "stderr",
     "output_type": "stream",
     "text": [
      "Processing pulses: 100%|██████████████████████████████████████████████████████████████████████████████████| 551/551 [00:20<00:00, 26.28it/s]\n",
      "Processing zero DM events: 100%|████████████████████████████████████████████████████████████████████████████| 30/30 [00:01<00:00, 26.31it/s]\n",
      "Processing rest of events: 100%|██████████████████████████████████████████████████████████████████| 148736/148736 [00:37<00:00, 3941.93it/s]\n"
     ]
    }
   ],
   "source": [
    "processor.process()"
   ]
  },
  {
   "cell_type": "code",
   "execution_count": null,
   "id": "7f5b0546-4898-431e-8dea-be9ab495aa53",
   "metadata": {},
   "outputs": [],
   "source": []
  },
  {
   "cell_type": "code",
   "execution_count": null,
   "id": "4e4582c3-3eb9-46e9-b7ec-6e534ce4d09e",
   "metadata": {},
   "outputs": [],
   "source": []
  }
 ],
 "metadata": {
  "kernelspec": {
   "display_name": "Python 3 (ipykernel)",
   "language": "python",
   "name": "python3"
  },
  "language_info": {
   "codemirror_mode": {
    "name": "ipython",
    "version": 3
   },
   "file_extension": ".py",
   "mimetype": "text/x-python",
   "name": "python",
   "nbconvert_exporter": "python",
   "pygments_lexer": "ipython3",
   "version": "3.11.0rc1"
  }
 },
 "nbformat": 4,
 "nbformat_minor": 5
}
